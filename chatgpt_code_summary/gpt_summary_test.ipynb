{
 "cells": [
  {
   "cell_type": "code",
   "execution_count": 2,
   "metadata": {},
   "outputs": [],
   "source": [
    "from openai import OpenAI\n",
    "import os\n",
    "import re\n",
    "\n",
    "def summarize_code_files(source_dir):\n",
    "    files = os.listdir(source_dir)\n",
    "    sorted_files = sorted(files, key=lambda x: int(re.search(r'content_(\\d+)', x).group(1)))\n",
    "    code_dic = {}\n",
    "    for file in sorted_files:\n",
    "        if file.endswith(\".txt\") and 'content_' in file:\n",
    "            with open(os.path.join(source_dir, file), 'r', encoding='utf-8') as f:\n",
    "                code_snippet = f.read()\n",
    "                code_dic[file] = code_snippet\n",
    "    return code_dic\n",
    "\n",
    "code_dic = summarize_code_files(source_dir = '/Users/vuh/Documents/chatgpt_code_summary/data/bigcode_the-stack-smol/content')"
   ]
  },
  {
   "cell_type": "code",
   "execution_count": 3,
   "metadata": {},
   "outputs": [
    {
     "data": {
      "text/plain": [
       "'import argparse\\nimport logging\\nfrom pprint import pformat\\n\\nfrom . import guide\\nfrom . import settings\\n\\n\\nlog = logging.getLogger(__name__)\\n\\n\\ndef cli(settingsobject=None):\\n    parser = argparse.ArgumentParser(description=\\'Create a CSS/LESS/SASS style guide.\\')\\n    if not settingsobject:\\n        parser.add_argument(\\'-f\\', \\'--settingsfile\\',\\n            dest=\\'settingsfile\\', default=\\'vitalstyles.json\\',\\n            help=\\'Path to settings file. Defaults to \"vitalstyles.json\".\\')\\n    parser.add_argument(\\'-l\\', \\'--loglevel\\',\\n        dest=\\'loglevel\\', default=\\'INFO\\',\\n        choices=[\\'DEBUG\\', \\'INFO\\', \\'ERROR\\'], help=\\'Loglevel.\\')\\n    args = parser.parse_args()\\n\\n    loglevel = getattr(logging, args.loglevel)\\n    logging.basicConfig(\\n        format=\\'[%(name)s] %(levelname)s: %(message)s\\',\\n        level=loglevel\\n    )\\n\\n    if loglevel > logging.DEBUG:\\n        markdownlogger = logging.getLogger(\\'MARKDOWN\\')\\n        markdownlogger.setLevel(logging.WARNING)\\n\\n    if not settingsobject:\\n        settingsobject = settings.Settings(args.settingsfile)\\n    logging.debug(\\'Creating vitalstyles styleguide with the following settings:\\\\n%s\\',\\n                  pformat(settingsobject.settings))\\n    guide.Guide(settingsobject).render()\\n\\n\\nif __name__ == \\'__main__\\':\\n    cli()\\n'"
      ]
     },
     "execution_count": 3,
     "metadata": {},
     "output_type": "execute_result"
    }
   ],
   "source": [
    "code_dic['content_10.txt']"
   ]
  },
  {
   "cell_type": "code",
   "execution_count": 8,
   "metadata": {},
   "outputs": [
    {
     "name": "stdout",
     "output_type": "stream",
     "text": [
      "ChatCompletionMessage(content=\"This Python script defines a command-line interface (CLI) program to create a CSS/LESS/SASS style guide. It utilizes the argparse library for parsing command-line arguments and the logging module for handling logging operations. The script allows users to specify the settings file path and log level as arguments. If no settings file is provided, it defaults to 'vitalstyles.json'. The script sets up logging based on the specified log level and creates a style guide using the provided settings. When executed as a standalone script, it triggers the CLI function to generate the style guide.\", role='assistant', function_call=None, tool_calls=None)\n"
     ]
    }
   ],
   "source": [
    "# testing for 1 code snippet\n",
    "\n",
    "# Instantiate a client to ChatGPT and grab the API key from the .env file\n",
    "client = OpenAI(\n",
    "    api_key=os.environ.get(\"API_KEY\")\n",
    ")\n",
    "\n",
    "\n",
    "completion = client.chat.completions.create(\n",
    "  model=\"gpt-3.5-turbo\",\n",
    "  messages=[\n",
    "    {\n",
    "    \"role\": \"system\",\n",
    "    \"content\": \"You are an expert in programming, particularly in Python. Your task is to explain complex code snippets succinctly. Focus on providing clear, concise instructions that describe what the code does and how it works, suitable for use in training a code generation model.\"\n",
    "    },\n",
    "    {\n",
    "    \"role\": \"user\",\n",
    "    \"content\": \"Please summarize the following Python code in about 100 words. The summary should serve as an instructional guide that clearly explains the purpose and functionality of the code to someone familiar with programming but not with this specific script.\"\n",
    "    },\n",
    "    {\n",
    "    \"role\": \"user\",\n",
    "    \"content\": f\"{code_dic['content_10.txt']}\"\n",
    "    }\n",
    "  ]\n",
    ")\n",
    "\n",
    "print(completion.choices[0].message)"
   ]
  },
  {
   "cell_type": "code",
   "execution_count": 11,
   "metadata": {},
   "outputs": [
    {
     "name": "stdout",
     "output_type": "stream",
     "text": [
      "<class 'str'>\n"
     ]
    }
   ],
   "source": [
    "print(completion.choices[0].message.content)"
   ]
  },
  {
   "cell_type": "code",
   "execution_count": 25,
   "metadata": {},
   "outputs": [],
   "source": [
    "import os\n",
    "import re\n",
    "import time\n",
    "from openai import OpenAI\n",
    "invalid_file = [84, 99, 113, 124, 157, 164, 165, 166, 174, 178, 179, 203, 209, 223]\n",
    "\n",
    "\n",
    "def summarize_code_files(source_dir, output_dir, client, log_file_path):\n",
    "    files = os.listdir(source_dir)\n",
    "    sorted_files = sorted(files, key=lambda x: int(re.search(r'content_(\\d+)', x).group(1)))\n",
    "    request_count = 0\n",
    "    request_limit_per_minute = 10  # Adjust based on your API plan limits\n",
    "    \n",
    "    last_processed = 0\n",
    "    # Load the last processed number from the log file\n",
    "    if os.path.exists(log_file_path):\n",
    "        with open(log_file_path, 'r') as log_file:\n",
    "            last_processed_line = log_file.read().strip()\n",
    "            last_processed = int(last_processed_line) if last_processed_line.isdigit() else -1\n",
    "\n",
    "    for file in sorted_files:\n",
    "        file_number = int(re.search(r'content_(\\d+)', file).group(1))\n",
    "        if file.endswith(\".txt\") and file_number > last_processed and file_number not in invalid_file:\n",
    "            with open(os.path.join(source_dir, file), 'r', encoding='utf-8') as f:\n",
    "                code_snippet = f.read()\n",
    "\n",
    "                # Prepare the message for the API request\n",
    "                messages = [\n",
    "                    {\n",
    "                    \"role\": \"system\",\n",
    "                    \"content\": \"You are an expert in programming, particularly in Python. Your task is to explain complex code snippets succinctly. Focus on providing clear, concise instructions that describe what the code does and how it works, suitable for use in training a code generation model.\"\n",
    "                    },\n",
    "                    {\n",
    "                    \"role\": \"user\",\n",
    "                    \"content\": \"Please summarize the following Python code in about 100 words. The summary should serve as an instructional guide that clearly explains the purpose and functionality of the code to someone familiar with programming but not with this specific script.\"\n",
    "                    },\n",
    "                    {\n",
    "                    \"role\": \"user\",\n",
    "                    \"content\": f\"{code_snippet}\"\n",
    "                    }\n",
    "                ]\n",
    "\n",
    "                # Handle rate limits more effectively\n",
    "                while request_count >= request_limit_per_minute:\n",
    "                    time.sleep(15)  # Wait for 60 seconds\n",
    "                    request_count = 0  # Reset request count after waiting\n",
    "\n",
    "                completion = client.chat.completions.create(\n",
    "                    model=\"gpt-3.5-turbo\",\n",
    "                    messages=messages\n",
    "                )\n",
    "                summary = completion.choices[0].message.content\n",
    "                request_count += 1\n",
    "\n",
    "                # Save the response to a corresponding output file\n",
    "                output_filename = f'response_{file_number}.txt'\n",
    "                with open(os.path.join(output_dir, output_filename), 'w', encoding='utf-8') as out_file:\n",
    "                    out_file.write(summary)\n",
    "                \n",
    "                # Update the log file with the last processed file number\n",
    "                with open(log_file_path, 'w') as log_file:\n",
    "                    log_file.write(str(file_number))\n",
    "\n",
    "# Directory setup\n",
    "source_dir = '/Users/vuh/Documents/chatgpt_code_summary/data/bigcode_the-stack-smol/content_test'\n",
    "output_dir = '/Users/vuh/Documents/chatgpt_code_summary/data/bigcode_the-stack-smol/response'  # Make sure to adjust this to a real path\n",
    "log_file_path = 'log_file.txt'  # Specify path for the log file\n",
    "\n",
    "# API Client Setup\n",
    "api_key = os.environ.get(\"API_KEY\")\n",
    "client = OpenAI(api_key=api_key)\n",
    "\n",
    "# Execute the function\n",
    "summarize_code_files(source_dir, output_dir, client, log_file_path)\n"
   ]
  },
  {
   "cell_type": "code",
   "execution_count": null,
   "metadata": {},
   "outputs": [],
   "source": []
  }
 ],
 "metadata": {
  "kernelspec": {
   "display_name": "Python 3",
   "language": "python",
   "name": "python3"
  },
  "language_info": {
   "codemirror_mode": {
    "name": "ipython",
    "version": 3
   },
   "file_extension": ".py",
   "mimetype": "text/x-python",
   "name": "python",
   "nbconvert_exporter": "python",
   "pygments_lexer": "ipython3",
   "version": "3.8.18"
  }
 },
 "nbformat": 4,
 "nbformat_minor": 2
}
